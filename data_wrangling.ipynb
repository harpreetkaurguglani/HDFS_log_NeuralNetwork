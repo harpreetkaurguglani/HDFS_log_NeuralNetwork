{
 "cells": [
  {
   "cell_type": "code",
   "execution_count": 1,
   "id": "082c0110-cf48-49c1-b481-8a4bb0f25c12",
   "metadata": {},
   "outputs": [],
   "source": [
    "import pandas as pd\n",
    "data = pd.read_csv(\"HDFS_2k.log_structured.csv\")\n",
    "data.drop(['LineId'])"
   ]
  },
  {
   "cell_type": "code",
   "execution_count": 2,
   "id": "e8c75997-7acb-4805-8bd9-2255c1e2093d",
   "metadata": {},
   "outputs": [
    {
     "data": {
      "text/html": [
       "<div>\n",
       "<style scoped>\n",
       "    .dataframe tbody tr th:only-of-type {\n",
       "        vertical-align: middle;\n",
       "    }\n",
       "\n",
       "    .dataframe tbody tr th {\n",
       "        vertical-align: top;\n",
       "    }\n",
       "\n",
       "    .dataframe thead th {\n",
       "        text-align: right;\n",
       "    }\n",
       "</style>\n",
       "<table border=\"1\" class=\"dataframe\">\n",
       "  <thead>\n",
       "    <tr style=\"text-align: right;\">\n",
       "      <th></th>\n",
       "      <th>LineId</th>\n",
       "      <th>Date</th>\n",
       "      <th>Time</th>\n",
       "      <th>Pid</th>\n",
       "      <th>Level</th>\n",
       "      <th>Component</th>\n",
       "      <th>Content</th>\n",
       "      <th>EventId</th>\n",
       "      <th>EventTemplate</th>\n",
       "    </tr>\n",
       "  </thead>\n",
       "  <tbody>\n",
       "    <tr>\n",
       "      <th>0</th>\n",
       "      <td>1</td>\n",
       "      <td>81109</td>\n",
       "      <td>203615</td>\n",
       "      <td>148</td>\n",
       "      <td>INFO</td>\n",
       "      <td>dfs.DataNode$PacketResponder</td>\n",
       "      <td>PacketResponder 1 for block blk_38865049064139...</td>\n",
       "      <td>E10</td>\n",
       "      <td>PacketResponder &lt;*&gt; for block blk_&lt;*&gt; terminating</td>\n",
       "    </tr>\n",
       "    <tr>\n",
       "      <th>1</th>\n",
       "      <td>2</td>\n",
       "      <td>81109</td>\n",
       "      <td>203807</td>\n",
       "      <td>222</td>\n",
       "      <td>INFO</td>\n",
       "      <td>dfs.DataNode$PacketResponder</td>\n",
       "      <td>PacketResponder 0 for block blk_-6952295868487...</td>\n",
       "      <td>E10</td>\n",
       "      <td>PacketResponder &lt;*&gt; for block blk_&lt;*&gt; terminating</td>\n",
       "    </tr>\n",
       "    <tr>\n",
       "      <th>2</th>\n",
       "      <td>3</td>\n",
       "      <td>81109</td>\n",
       "      <td>204005</td>\n",
       "      <td>35</td>\n",
       "      <td>INFO</td>\n",
       "      <td>dfs.FSNamesystem</td>\n",
       "      <td>BLOCK* NameSystem.addStoredBlock: blockMap upd...</td>\n",
       "      <td>E6</td>\n",
       "      <td>BLOCK* NameSystem.addStoredBlock: blockMap upd...</td>\n",
       "    </tr>\n",
       "    <tr>\n",
       "      <th>3</th>\n",
       "      <td>4</td>\n",
       "      <td>81109</td>\n",
       "      <td>204015</td>\n",
       "      <td>308</td>\n",
       "      <td>INFO</td>\n",
       "      <td>dfs.DataNode$PacketResponder</td>\n",
       "      <td>PacketResponder 2 for block blk_82291938032499...</td>\n",
       "      <td>E10</td>\n",
       "      <td>PacketResponder &lt;*&gt; for block blk_&lt;*&gt; terminating</td>\n",
       "    </tr>\n",
       "    <tr>\n",
       "      <th>4</th>\n",
       "      <td>5</td>\n",
       "      <td>81109</td>\n",
       "      <td>204106</td>\n",
       "      <td>329</td>\n",
       "      <td>INFO</td>\n",
       "      <td>dfs.DataNode$PacketResponder</td>\n",
       "      <td>PacketResponder 2 for block blk_-6670958622368...</td>\n",
       "      <td>E10</td>\n",
       "      <td>PacketResponder &lt;*&gt; for block blk_&lt;*&gt; terminating</td>\n",
       "    </tr>\n",
       "  </tbody>\n",
       "</table>\n",
       "</div>"
      ],
      "text/plain": [
       "   LineId   Date    Time  Pid Level                     Component  \\\n",
       "0       1  81109  203615  148  INFO  dfs.DataNode$PacketResponder   \n",
       "1       2  81109  203807  222  INFO  dfs.DataNode$PacketResponder   \n",
       "2       3  81109  204005   35  INFO              dfs.FSNamesystem   \n",
       "3       4  81109  204015  308  INFO  dfs.DataNode$PacketResponder   \n",
       "4       5  81109  204106  329  INFO  dfs.DataNode$PacketResponder   \n",
       "\n",
       "                                             Content EventId  \\\n",
       "0  PacketResponder 1 for block blk_38865049064139...     E10   \n",
       "1  PacketResponder 0 for block blk_-6952295868487...     E10   \n",
       "2  BLOCK* NameSystem.addStoredBlock: blockMap upd...      E6   \n",
       "3  PacketResponder 2 for block blk_82291938032499...     E10   \n",
       "4  PacketResponder 2 for block blk_-6670958622368...     E10   \n",
       "\n",
       "                                       EventTemplate  \n",
       "0  PacketResponder <*> for block blk_<*> terminating  \n",
       "1  PacketResponder <*> for block blk_<*> terminating  \n",
       "2  BLOCK* NameSystem.addStoredBlock: blockMap upd...  \n",
       "3  PacketResponder <*> for block blk_<*> terminating  \n",
       "4  PacketResponder <*> for block blk_<*> terminating  "
      ]
     },
     "execution_count": 2,
     "metadata": {},
     "output_type": "execute_result"
    }
   ],
   "source": [
    "data.head(5)"
   ]
  },
  {
   "cell_type": "code",
   "execution_count": 26,
   "id": "39fc35e3-313f-4009-99c6-3c84a04b2ce6",
   "metadata": {},
   "outputs": [
    {
     "data": {
      "text/plain": [
       "Level\n",
       "INFO    1920\n",
       "WARN      80\n",
       "Name: Level, dtype: int64"
      ]
     },
     "execution_count": 26,
     "metadata": {},
     "output_type": "execute_result"
    }
   ],
   "source": [
    "data['Level'].groupby(data['Level']).count()"
   ]
  },
  {
   "cell_type": "code",
   "execution_count": 37,
   "id": "58772460-7f81-419d-9a38-f32623d7c109",
   "metadata": {},
   "outputs": [
    {
     "data": {
      "text/plain": [
       "Date\n",
       "81109    150\n",
       "81110    965\n",
       "81111    885\n",
       "Name: Date, dtype: int64"
      ]
     },
     "execution_count": 37,
     "metadata": {},
     "output_type": "execute_result"
    }
   ],
   "source": [
    "data['Date'].groupby(data['Date']).count()"
   ]
  },
  {
   "cell_type": "code",
   "execution_count": 21,
   "id": "729eb2fe-31ee-4890-b1d1-5e1c528809af",
   "metadata": {},
   "outputs": [
    {
     "data": {
      "text/plain": [
       "2000"
      ]
     },
     "execution_count": 21,
     "metadata": {},
     "output_type": "execute_result"
    }
   ],
   "source": [
    "len(data['LineId'].unique())"
   ]
  },
  {
   "cell_type": "code",
   "execution_count": 53,
   "id": "3080843f-b2cf-44f7-8b04-bc5b608f327b",
   "metadata": {},
   "outputs": [
    {
     "data": {
      "text/plain": [
       "Pid\n",
       "13        20\n",
       "18        28\n",
       "19       242\n",
       "26        70\n",
       "27        84\n",
       "        ... \n",
       "26494      1\n",
       "26526      1\n",
       "26527      1\n",
       "26595      1\n",
       "26895      1\n",
       "Name: Pid, Length: 1054, dtype: int64"
      ]
     },
     "execution_count": 53,
     "metadata": {},
     "output_type": "execute_result"
    }
   ],
   "source": [
    "data['Pid'].groupby(data['Pid']).count()"
   ]
  },
  {
   "cell_type": "code",
   "execution_count": 47,
   "id": "089a5baa-907d-4f63-9698-7757cf7c79dc",
   "metadata": {},
   "outputs": [],
   "source": [
    "blk=[]\n",
    "for i in range(len(data['Pid'])):\n",
    "    id_text=(data['Content'][i].split('blk_', 1)[1])\n",
    "    id_text=\"blk_\"+id_text\n",
    "    blk.append(id_text.split('terminating', 1)[0])\n",
    "data['BlockId']=blk"
   ]
  },
  {
   "cell_type": "code",
   "execution_count": 35,
   "id": "ef05714a-0780-4259-ac17-b53ddf9266ab",
   "metadata": {},
   "outputs": [],
   "source": [
    "label_data=pd.read_csv('anomaly_label.csv')\n",
    "label_data['Label'].groupby(label_data['Label']).count()"
   ]
  },
  {
   "cell_type": "code",
   "execution_count": 50,
   "id": "302fd486-5438-4764-9df8-367c1ba64916",
   "metadata": {},
   "outputs": [],
   "source": [
    "HDFS_with_label = data.merge(label_data, on='BlockId')\n",
    "HDFS_with_label.to_csv(\"HDFS_with_label.csv\", index=False)"
   ]
  },
  {
   "cell_type": "code",
   "execution_count": 57,
   "id": "7e0b6e79-de72-4518-908c-84c7cd2d594a",
   "metadata": {},
   "outputs": [],
   "source": [
    "merged['BlockId'].groupby(merged['BlockId']).count()"
   ]
  },
  {
   "cell_type": "code",
   "execution_count": 69,
   "id": "25d315eb-7bd5-40df-9a7d-b6e926fe958c",
   "metadata": {},
   "outputs": [
    {
     "data": {
      "text/plain": [
       "2000"
      ]
     },
     "execution_count": 69,
     "metadata": {},
     "output_type": "execute_result"
    }
   ],
   "source": [
    "len(data)"
   ]
  },
  {
   "cell_type": "code",
   "execution_count": 61,
   "id": "431f84a2-f5fc-45fa-bdc5-e7ee2fd5a243",
   "metadata": {},
   "outputs": [
    {
     "data": {
      "text/plain": [
       "False"
      ]
     },
     "execution_count": 61,
     "metadata": {},
     "output_type": "execute_result"
    }
   ],
   "source": [
    "e[3]>1"
   ]
  },
  {
   "cell_type": "code",
   "execution_count": 2,
   "id": "87533e63-2ec4-4958-a30e-c930da5243cb",
   "metadata": {},
   "outputs": [
    {
     "ename": "ModuleNotFoundError",
     "evalue": "No module named 'torch'",
     "output_type": "error",
     "traceback": [
      "\u001b[1;31m---------------------------------------------------------------------------\u001b[0m",
      "\u001b[1;31mModuleNotFoundError\u001b[0m                       Traceback (most recent call last)",
      "\u001b[1;32m~\\AppData\\Local\\Temp/ipykernel_16604/3007972946.py\u001b[0m in \u001b[0;36m<module>\u001b[1;34m\u001b[0m\n\u001b[1;32m----> 1\u001b[1;33m \u001b[1;32mimport\u001b[0m \u001b[0mtrypro\u001b[0m \u001b[1;32mas\u001b[0m \u001b[0mpss\u001b[0m\u001b[1;33m\u001b[0m\u001b[1;33m\u001b[0m\u001b[0m\n\u001b[0m",
      "\u001b[1;32mC:\\Yashi\\UBC MDS\\DATA 586\\Project\\trypro.py\u001b[0m in \u001b[0;36m<module>\u001b[1;34m\u001b[0m\n\u001b[0;32m     30\u001b[0m \u001b[1;32mfrom\u001b[0m \u001b[0mscipy\u001b[0m\u001b[1;33m.\u001b[0m\u001b[0mspecial\u001b[0m \u001b[1;32mimport\u001b[0m \u001b[0mexpit\u001b[0m\u001b[1;33m\u001b[0m\u001b[1;33m\u001b[0m\u001b[0m\n\u001b[0;32m     31\u001b[0m \u001b[1;32mfrom\u001b[0m \u001b[0mitertools\u001b[0m \u001b[1;32mimport\u001b[0m \u001b[0mcompress\u001b[0m\u001b[1;33m\u001b[0m\u001b[1;33m\u001b[0m\u001b[0m\n\u001b[1;32m---> 32\u001b[1;33m \u001b[1;32mfrom\u001b[0m \u001b[0mtorch\u001b[0m\u001b[1;33m.\u001b[0m\u001b[0mutils\u001b[0m\u001b[1;33m.\u001b[0m\u001b[0mdata\u001b[0m \u001b[1;32mimport\u001b[0m \u001b[0mDataLoader\u001b[0m\u001b[1;33m,\u001b[0m \u001b[0mDataset\u001b[0m\u001b[1;33m\u001b[0m\u001b[1;33m\u001b[0m\u001b[0m\n\u001b[0m\u001b[0;32m     33\u001b[0m \u001b[1;33m\u001b[0m\u001b[0m\n\u001b[0;32m     34\u001b[0m \u001b[1;32mclass\u001b[0m \u001b[0mIterator\u001b[0m\u001b[1;33m(\u001b[0m\u001b[0mDataset\u001b[0m\u001b[1;33m)\u001b[0m\u001b[1;33m:\u001b[0m\u001b[1;33m\u001b[0m\u001b[1;33m\u001b[0m\u001b[0m\n",
      "\u001b[1;31mModuleNotFoundError\u001b[0m: No module named 'torch'"
     ]
    }
   ],
   "source": [
    "import trypro as pss"
   ]
  },
  {
   "cell_type": "code",
   "execution_count": 76,
   "id": "3432a67b-d206-46cd-a9ef-1a945dc24730",
   "metadata": {},
   "outputs": [
    {
     "name": "stdout",
     "output_type": "stream",
     "text": [
      "^C\n",
      "\n",
      "Note: you may need to restart the kernel to use updated packages.\n"
     ]
    }
   ],
   "source": [
    "conda install pytorch-cpu torchvision-cpu -c pytorch"
   ]
  },
  {
   "cell_type": "code",
   "execution_count": null,
   "id": "2c97b73a-5e79-452f-98fd-25b0d6da4984",
   "metadata": {},
   "outputs": [],
   "source": [
    "conda create -n env_pytorch python=3.6"
   ]
  },
  {
   "cell_type": "code",
   "execution_count": null,
   "id": "89d187cb-98f6-47f0-b4a1-1506575800fb",
   "metadata": {},
   "outputs": [],
   "source": [
    "conda install -c pytorch pytorch"
   ]
  }
 ],
 "metadata": {
  "kernelspec": {
   "display_name": "Python 3 (ipykernel)",
   "language": "python",
   "name": "python3"
  },
  "language_info": {
   "codemirror_mode": {
    "name": "ipython",
    "version": 3
   },
   "file_extension": ".py",
   "mimetype": "text/x-python",
   "name": "python",
   "nbconvert_exporter": "python",
   "pygments_lexer": "ipython3",
   "version": "3.9.5"
  }
 },
 "nbformat": 4,
 "nbformat_minor": 5
}
