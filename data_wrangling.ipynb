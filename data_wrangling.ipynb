{
 "cells": [
  {
   "cell_type": "code",
   "execution_count": 8,
   "id": "082c0110-cf48-49c1-b481-8a4bb0f25c12",
   "metadata": {},
   "outputs": [],
   "source": [
    "# Feature extraction wrangling\n",
    "import featureprocessing as fp\n",
    "import dataloader as dl \n",
    "data='HDFS_2k.log_structured.csv'  \n",
    "labels='anomaly_label.csv'\n",
    "(x_train_pre, y_train),(x_test_pre, y_test)=dl.load_HDFS(data,label_file=labels,window='session',train_ratio=1,split_type='uniform',save_csv=True)"
   ]
  },
  {
   "cell_type": "code",
   "execution_count": null,
   "id": "fe25679c",
   "metadata": {},
   "outputs": [],
   "source": [
    "feature_extractor=fp.FeatureExtractor()\n",
    "# Perform feature extraction on training set\n",
    "x_train=feature_extractor.fit_transform(x_train_pre,term_weighting=None,normalization=None)\n",
    "\n",
    "featured_data=pd.DataFrame(x_train)\n",
    "featured_data"
   ]
  },
  {
   "cell_type": "code",
   "execution_count": 10,
   "id": "39fc35e3-313f-4009-99c6-3c84a04b2ce6",
   "metadata": {},
   "outputs": [
    {
     "data": {
      "text/plain": [
       "Level\n",
       "INFO    1920\n",
       "WARN      80\n",
       "Name: Level, dtype: int64"
      ]
     },
     "execution_count": 10,
     "metadata": {},
     "output_type": "execute_result"
    }
   ],
   "source": [
    "# STRUCTURED CSV WRANGLING\n",
    "import pandas as pd\n",
    "data = pd.read_csv(\"HDFS_2k.log_structured.csv\")\n",
    "data = data.drop(['LineId'], axis=1)\n",
    "data.head(5)\n",
    "\n",
    "data['Level'].groupby(data['Level']).count()\n",
    "data['Pid'].groupby(data['Pid']).count()\n",
    "\n",
    "# separating the blk_ids from the structured file\n",
    "blk=[]\n",
    "for i in range(len(data['Pid'])):\n",
    "    id_text=(data['Content'][i].split('blk_', 1)[1])\n",
    "    id_text=\"blk_\"+id_text\n",
    "    blk.append(id_text.split('terminating', 1)[0])\n",
    "data['BlockId']=blk\n",
    "\n",
    "# anomally label file\n",
    "label_data=pd.read_csv('anomaly_label.csv')\n",
    "\n",
    "#merging the labels and the structured file\n",
    "HDFS_with_label = data.merge(label_data, on='BlockId')\n",
    "HDFS_with_label.to_csv(\"HDFS_with_label.csv\", index=False)"
   ]
  }
 ],
 "metadata": {
  "kernelspec": {
   "display_name": "data586-venv",
   "language": "python",
   "name": "data586-venv"
  },
  "language_info": {
   "codemirror_mode": {
    "name": "ipython",
    "version": 3
   },
   "file_extension": ".py",
   "mimetype": "text/x-python",
   "name": "python",
   "nbconvert_exporter": "python",
   "pygments_lexer": "ipython3",
   "version": "3.9.5"
  }
 },
 "nbformat": 4,
 "nbformat_minor": 5
}
